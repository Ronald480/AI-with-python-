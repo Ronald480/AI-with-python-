{
 "cells": [
  {
   "cell_type": "code",
   "execution_count": null,
   "id": "61e90501",
   "metadata": {},
   "outputs": [],
   "source": [
    "import pandas as pd, numpy as np "
   ]
  },
  {
   "cell_type": "code",
   "execution_count": 5,
   "id": "d3ee3f39",
   "metadata": {},
   "outputs": [
    {
     "name": "stdout",
     "output_type": "stream",
     "text": [
      "     Unnamed: 0  carat colour clarity certification  price\n",
      "0             1   0.30      D     VS2           GIA   1302\n",
      "1             2   0.30      E     VS1           GIA   1510\n",
      "2             3   0.30      G    VVS1           GIA   1510\n",
      "3             4   0.30      G     VS1           GIA   1260\n",
      "4             5   0.31      D     VS1           GIA   1641\n",
      "..          ...    ...    ...     ...           ...    ...\n",
      "303         304   1.01      I     VS1           HRD   8175\n",
      "304         305   1.02      F    VVS2           HRD  10796\n",
      "305         306   1.06      H    VVS2           HRD   9890\n",
      "306         307   1.02      H     VS2           HRD   8959\n",
      "307         308   1.09      I    VVS2           HRD   9107\n",
      "\n",
      "[308 rows x 6 columns]\n"
     ]
    }
   ],
   "source": [
    "data = pd.read_csv(\"diamond.csv\")\n",
    "print(data)"
   ]
  },
  {
   "cell_type": "code",
   "execution_count": 6,
   "id": "6ba58ff3",
   "metadata": {},
   "outputs": [
    {
     "data": {
      "text/html": [
       "<div>\n",
       "<style scoped>\n",
       "    .dataframe tbody tr th:only-of-type {\n",
       "        vertical-align: middle;\n",
       "    }\n",
       "\n",
       "    .dataframe tbody tr th {\n",
       "        vertical-align: top;\n",
       "    }\n",
       "\n",
       "    .dataframe thead th {\n",
       "        text-align: right;\n",
       "    }\n",
       "</style>\n",
       "<table border=\"1\" class=\"dataframe\">\n",
       "  <thead>\n",
       "    <tr style=\"text-align: right;\">\n",
       "      <th></th>\n",
       "      <th>carat</th>\n",
       "      <th>price</th>\n",
       "    </tr>\n",
       "  </thead>\n",
       "  <tbody>\n",
       "    <tr>\n",
       "      <th>0</th>\n",
       "      <td>0.30</td>\n",
       "      <td>1302</td>\n",
       "    </tr>\n",
       "    <tr>\n",
       "      <th>1</th>\n",
       "      <td>0.30</td>\n",
       "      <td>1510</td>\n",
       "    </tr>\n",
       "    <tr>\n",
       "      <th>2</th>\n",
       "      <td>0.30</td>\n",
       "      <td>1510</td>\n",
       "    </tr>\n",
       "    <tr>\n",
       "      <th>3</th>\n",
       "      <td>0.30</td>\n",
       "      <td>1260</td>\n",
       "    </tr>\n",
       "    <tr>\n",
       "      <th>4</th>\n",
       "      <td>0.31</td>\n",
       "      <td>1641</td>\n",
       "    </tr>\n",
       "    <tr>\n",
       "      <th>...</th>\n",
       "      <td>...</td>\n",
       "      <td>...</td>\n",
       "    </tr>\n",
       "    <tr>\n",
       "      <th>303</th>\n",
       "      <td>1.01</td>\n",
       "      <td>8175</td>\n",
       "    </tr>\n",
       "    <tr>\n",
       "      <th>304</th>\n",
       "      <td>1.02</td>\n",
       "      <td>10796</td>\n",
       "    </tr>\n",
       "    <tr>\n",
       "      <th>305</th>\n",
       "      <td>1.06</td>\n",
       "      <td>9890</td>\n",
       "    </tr>\n",
       "    <tr>\n",
       "      <th>306</th>\n",
       "      <td>1.02</td>\n",
       "      <td>8959</td>\n",
       "    </tr>\n",
       "    <tr>\n",
       "      <th>307</th>\n",
       "      <td>1.09</td>\n",
       "      <td>9107</td>\n",
       "    </tr>\n",
       "  </tbody>\n",
       "</table>\n",
       "<p>308 rows × 2 columns</p>\n",
       "</div>"
      ],
      "text/plain": [
       "     carat  price\n",
       "0     0.30   1302\n",
       "1     0.30   1510\n",
       "2     0.30   1510\n",
       "3     0.30   1260\n",
       "4     0.31   1641\n",
       "..     ...    ...\n",
       "303   1.01   8175\n",
       "304   1.02  10796\n",
       "305   1.06   9890\n",
       "306   1.02   8959\n",
       "307   1.09   9107\n",
       "\n",
       "[308 rows x 2 columns]"
      ]
     },
     "execution_count": 6,
     "metadata": {},
     "output_type": "execute_result"
    }
   ],
   "source": [
    "x_list = ['carat','price']\n",
    "x = data[x_list]\n",
    "x\n"
   ]
  },
  {
   "cell_type": "code",
   "execution_count": 7,
   "id": "888ea43c",
   "metadata": {},
   "outputs": [
    {
     "name": "stdout",
     "output_type": "stream",
     "text": [
      "0      1\n",
      "1      1\n",
      "2      1\n",
      "3      1\n",
      "4      1\n",
      "      ..\n",
      "303    0\n",
      "304    0\n",
      "305    0\n",
      "306    0\n",
      "307    0\n",
      "Name: certification, Length: 308, dtype: int32\n"
     ]
    }
   ],
   "source": [
    "y = (data.certification == \"GIA\")* 1\n",
    "print(y)"
   ]
  },
  {
   "cell_type": "code",
   "execution_count": 8,
   "id": "1196c0b5",
   "metadata": {},
   "outputs": [],
   "source": [
    "from sklearn.tree import DecisionTreeClassifier\n",
    "from sklearn.model_selection import train_test_split\n",
    "from sklearn.metrics import accuracy_score\n",
    "from sklearn.metrics import precision_score\n",
    "from sklearn.metrics import classification_report\n",
    "from sklearn.metrics import confusion_matrix"
   ]
  },
  {
   "cell_type": "code",
   "execution_count": 9,
   "id": "7bb74afc",
   "metadata": {},
   "outputs": [],
   "source": [
    "x_train, x_test, y_train, y_test = train_test_split(x, y, test_size = 0.3, random_state = 50)"
   ]
  },
  {
   "cell_type": "code",
   "execution_count": 10,
   "id": "33613793",
   "metadata": {},
   "outputs": [],
   "source": [
    "gini_model = DecisionTreeClassifier(criterion = \"gini\", max_depth = 7, max_leaf_nodes = 10, min_samples_leaf = 10, random_state=12)"
   ]
  },
  {
   "cell_type": "code",
   "execution_count": 11,
   "id": "b45749ae",
   "metadata": {},
   "outputs": [
    {
     "data": {
      "text/html": [
       "<style>#sk-container-id-1 {color: black;}#sk-container-id-1 pre{padding: 0;}#sk-container-id-1 div.sk-toggleable {background-color: white;}#sk-container-id-1 label.sk-toggleable__label {cursor: pointer;display: block;width: 100%;margin-bottom: 0;padding: 0.3em;box-sizing: border-box;text-align: center;}#sk-container-id-1 label.sk-toggleable__label-arrow:before {content: \"▸\";float: left;margin-right: 0.25em;color: #696969;}#sk-container-id-1 label.sk-toggleable__label-arrow:hover:before {color: black;}#sk-container-id-1 div.sk-estimator:hover label.sk-toggleable__label-arrow:before {color: black;}#sk-container-id-1 div.sk-toggleable__content {max-height: 0;max-width: 0;overflow: hidden;text-align: left;background-color: #f0f8ff;}#sk-container-id-1 div.sk-toggleable__content pre {margin: 0.2em;color: black;border-radius: 0.25em;background-color: #f0f8ff;}#sk-container-id-1 input.sk-toggleable__control:checked~div.sk-toggleable__content {max-height: 200px;max-width: 100%;overflow: auto;}#sk-container-id-1 input.sk-toggleable__control:checked~label.sk-toggleable__label-arrow:before {content: \"▾\";}#sk-container-id-1 div.sk-estimator input.sk-toggleable__control:checked~label.sk-toggleable__label {background-color: #d4ebff;}#sk-container-id-1 div.sk-label input.sk-toggleable__control:checked~label.sk-toggleable__label {background-color: #d4ebff;}#sk-container-id-1 input.sk-hidden--visually {border: 0;clip: rect(1px 1px 1px 1px);clip: rect(1px, 1px, 1px, 1px);height: 1px;margin: -1px;overflow: hidden;padding: 0;position: absolute;width: 1px;}#sk-container-id-1 div.sk-estimator {font-family: monospace;background-color: #f0f8ff;border: 1px dotted black;border-radius: 0.25em;box-sizing: border-box;margin-bottom: 0.5em;}#sk-container-id-1 div.sk-estimator:hover {background-color: #d4ebff;}#sk-container-id-1 div.sk-parallel-item::after {content: \"\";width: 100%;border-bottom: 1px solid gray;flex-grow: 1;}#sk-container-id-1 div.sk-label:hover label.sk-toggleable__label {background-color: #d4ebff;}#sk-container-id-1 div.sk-serial::before {content: \"\";position: absolute;border-left: 1px solid gray;box-sizing: border-box;top: 0;bottom: 0;left: 50%;z-index: 0;}#sk-container-id-1 div.sk-serial {display: flex;flex-direction: column;align-items: center;background-color: white;padding-right: 0.2em;padding-left: 0.2em;position: relative;}#sk-container-id-1 div.sk-item {position: relative;z-index: 1;}#sk-container-id-1 div.sk-parallel {display: flex;align-items: stretch;justify-content: center;background-color: white;position: relative;}#sk-container-id-1 div.sk-item::before, #sk-container-id-1 div.sk-parallel-item::before {content: \"\";position: absolute;border-left: 1px solid gray;box-sizing: border-box;top: 0;bottom: 0;left: 50%;z-index: -1;}#sk-container-id-1 div.sk-parallel-item {display: flex;flex-direction: column;z-index: 1;position: relative;background-color: white;}#sk-container-id-1 div.sk-parallel-item:first-child::after {align-self: flex-end;width: 50%;}#sk-container-id-1 div.sk-parallel-item:last-child::after {align-self: flex-start;width: 50%;}#sk-container-id-1 div.sk-parallel-item:only-child::after {width: 0;}#sk-container-id-1 div.sk-dashed-wrapped {border: 1px dashed gray;margin: 0 0.4em 0.5em 0.4em;box-sizing: border-box;padding-bottom: 0.4em;background-color: white;}#sk-container-id-1 div.sk-label label {font-family: monospace;font-weight: bold;display: inline-block;line-height: 1.2em;}#sk-container-id-1 div.sk-label-container {text-align: center;}#sk-container-id-1 div.sk-container {/* jupyter's `normalize.less` sets `[hidden] { display: none; }` but bootstrap.min.css set `[hidden] { display: none !important; }` so we also need the `!important` here to be able to override the default hidden behavior on the sphinx rendered scikit-learn.org. See: https://github.com/scikit-learn/scikit-learn/issues/21755 */display: inline-block !important;position: relative;}#sk-container-id-1 div.sk-text-repr-fallback {display: none;}</style><div id=\"sk-container-id-1\" class=\"sk-top-container\"><div class=\"sk-text-repr-fallback\"><pre>DecisionTreeClassifier(max_depth=7, max_leaf_nodes=10, min_samples_leaf=10,\n",
       "                       random_state=12)</pre><b>In a Jupyter environment, please rerun this cell to show the HTML representation or trust the notebook. <br />On GitHub, the HTML representation is unable to render, please try loading this page with nbviewer.org.</b></div><div class=\"sk-container\" hidden><div class=\"sk-item\"><div class=\"sk-estimator sk-toggleable\"><input class=\"sk-toggleable__control sk-hidden--visually\" id=\"sk-estimator-id-1\" type=\"checkbox\" checked><label for=\"sk-estimator-id-1\" class=\"sk-toggleable__label sk-toggleable__label-arrow\">DecisionTreeClassifier</label><div class=\"sk-toggleable__content\"><pre>DecisionTreeClassifier(max_depth=7, max_leaf_nodes=10, min_samples_leaf=10,\n",
       "                       random_state=12)</pre></div></div></div></div></div>"
      ],
      "text/plain": [
       "DecisionTreeClassifier(max_depth=7, max_leaf_nodes=10, min_samples_leaf=10,\n",
       "                       random_state=12)"
      ]
     },
     "execution_count": 11,
     "metadata": {},
     "output_type": "execute_result"
    }
   ],
   "source": [
    "gini_model.fit(x_train, y_train)"
   ]
  },
  {
   "cell_type": "code",
   "execution_count": 12,
   "id": "84413e7b",
   "metadata": {},
   "outputs": [
    {
     "data": {
      "text/plain": [
       "array([0, 1, 0, 1, 0, 1, 1, 0, 0, 1, 1, 1, 0, 1, 1, 0, 0, 1, 1, 0, 1, 1,\n",
       "       0, 0, 0, 0, 0, 0, 0, 0, 1, 1, 0, 0, 0, 0, 0, 0, 0, 0, 0, 0, 0, 1,\n",
       "       0, 0, 0, 1, 0, 0, 1, 0, 0, 0, 0, 0, 1, 0, 0, 1, 0, 1, 0, 0, 0, 0,\n",
       "       1, 0, 0, 0, 1, 1, 0, 0, 0, 0, 1, 0, 1, 0, 0, 1, 0, 0, 0, 1, 1, 0,\n",
       "       0, 0, 1, 0, 0])"
      ]
     },
     "execution_count": 12,
     "metadata": {},
     "output_type": "execute_result"
    }
   ],
   "source": [
    "predictions = gini_model.predict(x_test)\n",
    "predictions"
   ]
  },
  {
   "cell_type": "code",
   "execution_count": 13,
   "id": "f27c8179",
   "metadata": {},
   "outputs": [
    {
     "data": {
      "text/plain": [
       "array([[0.5106383 , 0.4893617 ],\n",
       "       [0.34210526, 0.65789474],\n",
       "       [0.83333333, 0.16666667],\n",
       "       [0.18181818, 0.81818182],\n",
       "       [0.83333333, 0.16666667],\n",
       "       [0.07142857, 0.92857143],\n",
       "       [0.18181818, 0.81818182],\n",
       "       [0.83333333, 0.16666667],\n",
       "       [1.        , 0.        ],\n",
       "       [0.34210526, 0.65789474],\n",
       "       [0.34210526, 0.65789474],\n",
       "       [0.07142857, 0.92857143],\n",
       "       [0.76923077, 0.23076923],\n",
       "       [0.34210526, 0.65789474],\n",
       "       [0.07142857, 0.92857143],\n",
       "       [0.5       , 0.5       ],\n",
       "       [0.83333333, 0.16666667],\n",
       "       [0.18181818, 0.81818182],\n",
       "       [0.2       , 0.8       ],\n",
       "       [1.        , 0.        ],\n",
       "       [0.34210526, 0.65789474],\n",
       "       [0.18181818, 0.81818182],\n",
       "       [0.83333333, 0.16666667],\n",
       "       [0.83333333, 0.16666667],\n",
       "       [1.        , 0.        ],\n",
       "       [0.53846154, 0.46153846],\n",
       "       [0.53846154, 0.46153846],\n",
       "       [0.53846154, 0.46153846],\n",
       "       [0.5106383 , 0.4893617 ],\n",
       "       [0.53846154, 0.46153846],\n",
       "       [0.34210526, 0.65789474],\n",
       "       [0.34210526, 0.65789474],\n",
       "       [0.5       , 0.5       ],\n",
       "       [0.5106383 , 0.4893617 ],\n",
       "       [0.5106383 , 0.4893617 ],\n",
       "       [1.        , 0.        ],\n",
       "       [0.53846154, 0.46153846],\n",
       "       [0.83333333, 0.16666667],\n",
       "       [0.83333333, 0.16666667],\n",
       "       [1.        , 0.        ],\n",
       "       [0.76923077, 0.23076923],\n",
       "       [1.        , 0.        ],\n",
       "       [0.76923077, 0.23076923],\n",
       "       [0.18181818, 0.81818182],\n",
       "       [0.83333333, 0.16666667],\n",
       "       [0.5106383 , 0.4893617 ],\n",
       "       [0.5106383 , 0.4893617 ],\n",
       "       [0.2       , 0.8       ],\n",
       "       [0.5       , 0.5       ],\n",
       "       [1.        , 0.        ],\n",
       "       [0.07142857, 0.92857143],\n",
       "       [0.53846154, 0.46153846],\n",
       "       [0.5       , 0.5       ],\n",
       "       [0.5       , 0.5       ],\n",
       "       [0.53846154, 0.46153846],\n",
       "       [0.53846154, 0.46153846],\n",
       "       [0.34210526, 0.65789474],\n",
       "       [1.        , 0.        ],\n",
       "       [1.        , 0.        ],\n",
       "       [0.18181818, 0.81818182],\n",
       "       [0.76923077, 0.23076923],\n",
       "       [0.07142857, 0.92857143],\n",
       "       [0.5106383 , 0.4893617 ],\n",
       "       [0.5       , 0.5       ],\n",
       "       [0.53846154, 0.46153846],\n",
       "       [0.76923077, 0.23076923],\n",
       "       [0.2       , 0.8       ],\n",
       "       [1.        , 0.        ],\n",
       "       [0.53846154, 0.46153846],\n",
       "       [0.5106383 , 0.4893617 ],\n",
       "       [0.18181818, 0.81818182],\n",
       "       [0.2       , 0.8       ],\n",
       "       [0.76923077, 0.23076923],\n",
       "       [0.53846154, 0.46153846],\n",
       "       [0.5106383 , 0.4893617 ],\n",
       "       [0.53846154, 0.46153846],\n",
       "       [0.34210526, 0.65789474],\n",
       "       [0.83333333, 0.16666667],\n",
       "       [0.2       , 0.8       ],\n",
       "       [0.53846154, 0.46153846],\n",
       "       [0.5       , 0.5       ],\n",
       "       [0.07142857, 0.92857143],\n",
       "       [0.5106383 , 0.4893617 ],\n",
       "       [0.83333333, 0.16666667],\n",
       "       [0.5       , 0.5       ],\n",
       "       [0.18181818, 0.81818182],\n",
       "       [0.34210526, 0.65789474],\n",
       "       [0.5106383 , 0.4893617 ],\n",
       "       [0.5106383 , 0.4893617 ],\n",
       "       [0.53846154, 0.46153846],\n",
       "       [0.34210526, 0.65789474],\n",
       "       [0.76923077, 0.23076923],\n",
       "       [0.5       , 0.5       ]])"
      ]
     },
     "execution_count": 13,
     "metadata": {},
     "output_type": "execute_result"
    }
   ],
   "source": [
    "probability = gini_model.predict_proba(x_test)\n",
    "probability "
   ]
  },
  {
   "cell_type": "code",
   "execution_count": 14,
   "id": "1b33aff9",
   "metadata": {},
   "outputs": [
    {
     "name": "stdout",
     "output_type": "stream",
     "text": [
      "              precision    recall  f1-score   support\n",
      "\n",
      "           0       0.54      0.77      0.64        44\n",
      "           1       0.67      0.41      0.51        49\n",
      "\n",
      "    accuracy                           0.58        93\n",
      "   macro avg       0.60      0.59      0.57        93\n",
      "weighted avg       0.61      0.58      0.57        93\n",
      "\n"
     ]
    }
   ],
   "source": [
    "report = classification_report(y_test, predictions)\n",
    "print(report)"
   ]
  },
  {
   "cell_type": "code",
   "execution_count": 15,
   "id": "66c0b20e",
   "metadata": {},
   "outputs": [
    {
     "name": "stdout",
     "output_type": "stream",
     "text": [
      "58.06451612903226 %\n"
     ]
    }
   ],
   "source": [
    "accuracy = accuracy_score(y_test, predictions)\n",
    "print((accuracy*100), \"%\")"
   ]
  },
  {
   "cell_type": "code",
   "execution_count": 16,
   "id": "af54e8f8",
   "metadata": {},
   "outputs": [
    {
     "name": "stdout",
     "output_type": "stream",
     "text": [
      "[  0 100   0 100   0 100 100   0   0 100 100 100   0 100 100   0   0 100\n",
      " 100   0 100 100   0   0   0   0   0   0   0   0 100 100   0   0   0   0\n",
      "   0   0   0   0   0   0   0 100   0   0   0 100   0   0 100   0   0   0\n",
      "   0   0 100   0   0 100   0 100   0   0   0   0 100   0   0   0 100 100\n",
      "   0   0   0   0 100   0 100   0   0 100   0   0   0 100 100   0   0   0\n",
      " 100   0   0] %\n"
     ]
    }
   ],
   "source": [
    "precision = precision_score(y_test, predictions)\n",
    "print((predictions*100), \"%\")"
   ]
  },
  {
   "cell_type": "code",
   "execution_count": 17,
   "id": "6182e7b1",
   "metadata": {},
   "outputs": [
    {
     "name": "stdout",
     "output_type": "stream",
     "text": [
      "[[20 29]\n",
      " [10 34]]\n"
     ]
    }
   ],
   "source": [
    "matrix = confusion_matrix(y_test, predictions, labels = [1,0])\n",
    "print(matrix)"
   ]
  },
  {
   "cell_type": "code",
   "execution_count": 18,
   "id": "47e1b838",
   "metadata": {},
   "outputs": [
    {
     "ename": "NameError",
     "evalue": "name 'x_columns' is not defined",
     "output_type": "error",
     "traceback": [
      "\u001b[1;31m---------------------------------------------------------------------------\u001b[0m",
      "\u001b[1;31mNameError\u001b[0m                                 Traceback (most recent call last)",
      "Cell \u001b[1;32mIn[18], line 1\u001b[0m\n\u001b[1;32m----> 1\u001b[0m x_influences \u001b[38;5;241m=\u001b[39m pd\u001b[38;5;241m.\u001b[39mDataFrame(gini_model\u001b[38;5;241m.\u001b[39mfeature_importances_, index \u001b[38;5;241m=\u001b[39m x_columns)\n\u001b[0;32m      2\u001b[0m prnt(x_influences)\n",
      "\u001b[1;31mNameError\u001b[0m: name 'x_columns' is not defined"
     ]
    }
   ],
   "source": [
    "x_influences = pd.DataFrame(gini_model.feature_importances_, index = x_columns)\n",
    "prnt(x_influences)"
   ]
  },
  {
   "cell_type": "code",
   "execution_count": null,
   "id": "b96d0d1a",
   "metadata": {},
   "outputs": [],
   "source": []
  }
 ],
 "metadata": {
  "kernelspec": {
   "display_name": "Python 3 (ipykernel)",
   "language": "python",
   "name": "python3"
  },
  "language_info": {
   "codemirror_mode": {
    "name": "ipython",
    "version": 3
   },
   "file_extension": ".py",
   "mimetype": "text/x-python",
   "name": "python",
   "nbconvert_exporter": "python",
   "pygments_lexer": "ipython3",
   "version": "3.11.5"
  }
 },
 "nbformat": 4,
 "nbformat_minor": 5
}
